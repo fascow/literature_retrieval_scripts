{
 "metadata": {
  "name": "",
  "signature": "sha256:94ace873d6ea4fc0ec2a24c3669e0244bd9a569aeef6ca93a1551cfe6254683d"
 },
 "nbformat": 3,
 "nbformat_minor": 0,
 "worksheets": [
  {
   "cells": [
    {
     "cell_type": "heading",
     "level": 1,
     "metadata": {},
     "source": [
      "Wiley Bookbinder"
     ]
    },
    {
     "cell_type": "markdown",
     "metadata": {},
     "source": [
      "Some functions to get all chapters of a book from Wiley Online Library and combine the PDF files into a single file. Works only with completely accessible books, but is not limited to freely available books. Access depends on your institute's contract with Wiley."
     ]
    },
    {
     "cell_type": "markdown",
     "metadata": {},
     "source": [
      "The user provided URL for a book should look like this:\n",
      "\n",
      "> http://onlinelibrary.wiley.com/book/10.1002/9780470385951\n",
      "\n",
      "The single chapters are accessed like this by the functions:\n",
      "\n",
      "> http://onlinelibrary.wiley.com/doi/10.1002/9780470385951.fmatter\n",
      "\n",
      "> http://onlinelibrary.wiley.com/doi/10.1002/9780470385951.ch1\n",
      "\n",
      "The according PDF file pages are accessed like this by the functions:\n",
      "\n",
      "> http://onlinelibrary.wiley.com/doi/10.1002/9780470385951.fmatter/pdf\n",
      "\n",
      "> http://onlinelibrary.wiley.com/doi/10.1002/9780470385951.ch1/pdf\n",
      "\n",
      "The link to each PDF is inside the 'src' of an 'iframe' on the latter pages:\n",
      "```html\n",
      "<iframe id=\"pdfDocument\" src=\"http://onlinelibrary.wiley.com/store/10.1002/9780470385951.fmatter/asset/fmatter.pdf?v=1&amp;t=i9pmwvio&amp;s=90f1cb510c74dde3fa70d21d4934bd27c81e03af\" width=\"100%\" height=\"675px\"></iframe>\n",
      "```"
     ]
    },
    {
     "cell_type": "markdown",
     "metadata": {},
     "source": [
      "Usage:\n",
      "1. The URL of the book's webpage\n",
      "2. The path to save the files to\n",
      "3. The name for the final PDF file (Limited to 30 characters, file extension not needed)\n",
      "\n",
      "```\n",
      "getwileybook(url = 'http://onlinelibrary.wiley.com/book/10.1002/0471227587', \n",
      "             path = 'WileyBooks/DNA-MAD', \n",
      "             title = 'Analysis of DNA Microarray Data')\n",
      "```"
     ]
    },
    {
     "cell_type": "code",
     "collapsed": false,
     "input": [
      "#TODO switch to Python 3\n",
      "#TODO automatically create folders, currently the user needs to do it before running the script\n",
      "\n",
      "import os\n",
      "import urllib, urllib2\n",
      "from bs4 import BeautifulSoup\n",
      "from PyPDF2 import PdfFileMerger, PdfFileReader\n",
      "\n",
      "def getlinks(url, baseurl = 'http://onlinelibrary.wiley.com'):\n",
      "    # TODO also accept DOI instead of full URL\n",
      "    # TODO what if it is not a book?\n",
      "    # TODO error handling\n",
      "    request = urllib2.Request(url)\n",
      "    response = urllib2.urlopen(request)\n",
      "    page = response.read()\n",
      "    #print page\n",
      "    soup = BeautifulSoup(page)\n",
      "    links = soup.find_all(class_ = 'standardPdfLink') # will this list always be ordered?\n",
      "    print \"Found %i chapters for your request.\\n\" % len(links)\n",
      "    urldict = {}\n",
      "    for i in range(len(links)):\n",
      "    #for link in links:\n",
      "        #print baseurl + link['href']\n",
      "        link = baseurl + links[i]['href']\n",
      "        urldict[i] = link\n",
      "    #print urllist\n",
      "    return urldict\n",
      "\n",
      "def getpdflinks(urldict):\n",
      "    pdfdict = {}\n",
      "    for i in range(len(urldict)):\n",
      "        link = urldict[i]\n",
      "        request = urllib2.Request(link)\n",
      "        response = urllib2.urlopen(request)\n",
      "        page = response.read()\n",
      "        soup = BeautifulSoup(page)\n",
      "        links = soup.find_all(id = 'pdfDocument')\n",
      "        nlinks = len(links)\n",
      "        if (nlinks > 1):\n",
      "            print \"More than one PDF found! Check %2d: %s\" % (i, link)\n",
      "            continue\n",
      "        if (nlinks < 1):\n",
      "            print \"No Access! Check %2d: %s\" % (i, link)\n",
      "            continue\n",
      "        pdflink = links[0]['src']\n",
      "        pdfdict[i] = pdflink\n",
      "    print \"%i out of %i requested PDF files are accessible.\\n\" % (len(pdfdict), len(urldict))\n",
      "    #print pdfdict\n",
      "    return pdfdict\n",
      "\n",
      "def getpdfs(pdfdict, path = 'WileyBooks'):\n",
      "    '''\n",
      "    This function retrieves the PDF files from the server. \n",
      "    You have to run it immediately after getpdflinks(), \n",
      "    otherwise the URLs will be invalid and HTTP error 403 Forbidden is returend.\n",
      "    '''\n",
      "    # TODO error handling, HTTP 403 error\n",
      "    for key in pdfdict.keys():\n",
      "        link = pdfdict[key]\n",
      "        #print key\n",
      "        #print type(key)\n",
      "        #print link\n",
      "        request = urllib2.Request(link)\n",
      "        response = urllib2.urlopen(request)\n",
      "        page = response.read()\n",
      "        #print page\n",
      "        filename = '{:02d}'.format(key) + '.pdf'\n",
      "        filepath = os.path.join(path, filename) # TODO check if path exists/create it if needed\n",
      "        with open(filepath, \"wb\") as PDF:\n",
      "            PDF.write(page)\n",
      "\n",
      "def concatpdfs(path, title):\n",
      "    '''\n",
      "    from: https://www.binpress.com/tutorial/manipulating-pdfs-with-python/167\n",
      "    '''\n",
      "    merger = PdfFileMerger()\n",
      "    files = [x for x in os.listdir(path) if x.endswith('.pdf')]\n",
      "    for fname in sorted(files):\n",
      "        # TODO add blank pages between chapters if needed\n",
      "        merger.append(PdfFileReader(open(os.path.join(path, fname), 'rb')))\n",
      "    \n",
      "    # TODO get title from webpage\n",
      "    title = title[0:30] # long filenames are bad\n",
      "    # TODO check if title already has an extension\n",
      "    filename = title + '.pdf'\n",
      "    filepath = os.path.join(path, filename)\n",
      "    merger.write(filepath)\n",
      "    # TODO get wd and tell user the absolute path\n",
      "    print \"Saved combined PDF files as '%s' in '%s'\" % (filename, path)\n",
      "\n",
      "def getwileybook(url, path, title):\n",
      "    # TODO check if path exists/is absolute/create it if needed\n",
      "    # TODO check title\n",
      "    urldict = getlinks(url)\n",
      "    pdfdict = getpdflinks(urldict)\n",
      "    getpdfs(pdfdict, path)\n",
      "    concatpdfs(path, title)"
     ],
     "language": "python",
     "metadata": {},
     "outputs": [],
     "prompt_number": 35
    },
    {
     "cell_type": "code",
     "collapsed": false,
     "input": [
      "getlinks(url)"
     ],
     "language": "python",
     "metadata": {},
     "outputs": [
      {
       "output_type": "stream",
       "stream": "stdout",
       "text": [
        "<!DOCTYPE html PUBLIC \"-//W3C//DTD XHTML 1.0 Strict//EN\" \"http://www.w3.org/TR/xhtml1/DTD/xhtml1-strict.dtd\">\n",
        "<html xmlns=\"http://www.w3.org/1999/xhtml\" xml:lang=\"en\" lang=\"en\"><head><title>Frontmatter - F# for Scientists - Harrop - Wiley Online Library</title><meta name=\"robots\" content=\"noarchive\" /><meta http-equiv=\"X-UA-Compatible\" content=\"IE=7,IE=9,IE=10,IE=11,IE=12,chrome=1\" /><!-- START Google Scholar --><meta xmlns=\"http://www.w3.org/1999/xhtml\" name=\"article_references\" content=\"Harrop, Jon,2008,Frontmatter,F# for Scientists,John Wiley &amp; Sons, Inc.,Hoboken, NJ, USA,doi:10.1002/9780470385951.fmatter.\" /><meta xmlns=\"http://www.w3.org/1999/xhtml\" name=\"citation_author\" content=\"Harrop, Jon\" /><meta xmlns=\"http://www.w3.org/1999/xhtml\" name=\"citation_author_institution\" content=\"Flying Frog Consultancy Ltd.\" /><meta xmlns=\"http://www.w3.org/1999/xhtml\" name=\"citation_book_title\" content=\"F# for Scientists\" /><meta xmlns=\"http://www.w3.org/1999/xhtml\" name=\"citation_doi\" content=\"10.1002/9780470385951.fmatter\" /><meta xmlns=\"http://www.w3.org/1999/xhtml\" name=\"citation_firstpage\" content=\"i\" /><meta xmlns=\"http://www.w3.org/1999/xhtml\" name=\"citation_isbn\" content=\"9780470385951\" /><meta xmlns=\"http://www.w3.org/1999/xhtml\" name=\"citation_language\" content=\"en\" /><meta xmlns=\"http://www.w3.org/1999/xhtml\" name=\"citation_lastpage\" content=\"xxxiv\" /><meta xmlns=\"http://www.w3.org/1999/xhtml\" name=\"citation_online_date\" content=\"2008/02/27\" /><meta xmlns=\"http://www.w3.org/1999/xhtml\" name=\"citation_pdf_url\" content=\"http://onlinelibrary.wiley.com/doi/10.1002/9780470385951.fmatter/pdf\" /><meta xmlns=\"http://www.w3.org/1999/xhtml\" name=\"citation_publisher\" content=\"John Wiley &amp; Sons, Inc.\" /><meta xmlns=\"http://www.w3.org/1999/xhtml\" name=\"citation_summary_html_url\" content=\"http://onlinelibrary.wiley.com/doi/10.1002/9780470385951.fmatter/summary\" /><meta xmlns=\"http://www.w3.org/1999/xhtml\" name=\"citation_title\" content=\"Frontmatter\" /><!-- END Google Scholar --><link rel=\"stylesheet\" type=\"text/css\" media=\"screen\" href=\"http://onlinelibrarystatic.wiley.com/css/importAll.css\" /><!--<link rel=\"stylesheet\" type=\"text/css\" media=\"screen\" href=\"http://onlinelibrarystatic.wiley.com/css/funcChemArticle.css\" />--><link rel=\"stylesheet\" type=\"text/css\" media=\"screen\" href=\"http://onlinelibrarystatic.wiley.com/css/chosen.css\" /><link rel=\"stylesheet\" type=\"text/css\" media=\"print\" href=\"http://onlinelibrarystatic.wiley.com/css/print.css\" /><!--[if IE 6]>\n",
        "\t   <link rel=\"stylesheet\" href=\"http://onlinelibrarystatic.wiley.com/css/ie6.css\" type=\"text/css\" media=\"screen,print\" />\n",
        "\t   <link rel=\"stylesheet\" href=\"http://onlinelibrarystatic.wiley.com/css/simpleForm_ie6.css\" type=\"text/css\" media=\"screen,print\" />\n",
        "    <![endif]--><!--[if IE 7]>\n",
        "\t   <link rel=\"stylesheet\" href=\"http://onlinelibrarystatic.wiley.com/css/ie7.css\" type=\"text/css\" media=\"screen\" />\n",
        "\t   <link rel=\"stylesheet\" href=\"http://onlinelibrarystatic.wiley.com/css/simpleForm_ie7.css\" type=\"text/css\" media=\"screen,print\" />\n",
        "    <![endif]--><script type=\"text/javascript\" xml:space=\"preserve\">\n",
        "        document.documentElement.className = \"js_en\";\n",
        "    </script><script language=\"javascript\" xml:space=\"preserve\"> var gs_channels = \"default\"; </script><script language=\"javascript\" type=\"text/javascript\" src=\"http://wiley.grapeshot.co.uk/main/channels.cgi?url=http://onlinelibrary.wiley.com/doi/10.1002/9780470385951.fmatter/pdf\" xml:space=\"preserve\">\n",
        "    </script><script src=\"http://content.readcube.com/wiley/epdf_linker.js\" type=\"text/javascript\" async=\"true\" xml:space=\"preserve\"></script></head><body><!-- START Site Catalyst --><!-- Adobe Marketing Cloud Tag Loader Code\n",
        "        Copyright 1996-2013 Adobe, Inc. All Rights Reserved\n",
        "        More info available at http://www.adobe.com/solutions/digital-marketing.html --><script type=\"text/javascript\" xml:space=\"preserve\">//<![CDATA[\n",
        "        var amc=amc||{};if(!amc.on){amc.on=amc.call=function(){}};\n",
        "        document.write(\"<scr\"+\"ipt type=\\\"text/javascript\\\" src=\\\"//www.adobetag.com/d1/v2/ZDEtd2lsZXlwdWJsaXNoaW5nLTE0NTYtMzAzOC0=/amc.js\\\"></sc\"+\"ript>\");\n",
        "        //]]></script><script language=\"JavaScript\" type=\"text/javascript\" src=\"http://onlinelibrarystatic.wiley.com/js/wol.siteCatalyst.js\" xml:space=\"preserve\"></script><script type=\"text/javascript\" xml:space=\"preserve\">//<![CDATA[\n",
        "        if(s){\n",
        "s.channel=\"BOOKS\"\n",
        "s.events=\"event11\"\n",
        "s.pageName=\"\"\n",
        "s.prop1=\"FULLTEXT\"\n",
        "s.prop10=\"Free\"\n",
        "s.prop12=\"2634\"\n",
        "s.prop13=\"10.1002/9780470385951\"\n",
        "s.prop14=\"10.1002/9780470385951.fmatter\"\n",
        "s.prop16=\"\"\n",
        "s.prop18=\"27 FEB 2008\"\n",
        "s.prop2=\"BOOK CHAPTER PDF FULL TEXT\"\n",
        "s.prop20=\"\"\n",
        "s.prop26=\"Guest\"\n",
        "s.prop28=\"IP Address\"\n",
        "s.prop3=\"F# for Scientists\"\n",
        "s.prop4=\"CS50,CS66,CSZ0\"\n",
        "s.prop5=\"\"\n",
        "s.prop6=\"\"\n",
        "s.prop7=\"Frontmatter\"\n",
        "s.prop9=\"Free\"\n",
        "s.server=\"onlinelibrary.wiley.com\"\n",
        "s.t()\n",
        "        }\n",
        "        //]]></script><!-- End Adobe Marketing Cloud Tag Loader Code --><!-- END Site Catalyst --><div id=\"pdf\">         <div id=\"pdfHeader\">                   <a href=\"/\" title=\"return to home page\" shape=\"rect\"><img src=\"http://onlinelibrarystatic.wiley.com/images/wolSiteLogo.png\" alt=\"Wiley Online Library\" id=\"siteLogo\" /></a> <div id=\"coBranding\">         <p>Max Planck Society</p> </div> <!-- languageSwitch.ftl -->             <div xmlns=\"http://www.w3.org/1999/xhtml\" id=\"pdfMetaData\"><div id=\"productTitleAndVolume\"><h1><a id=\"productTitle\" href=\"/book/10.1002/9780470385951\" shape=\"rect\">F# for Scientists</a><span id=\"publicationDate\">Published Online: 27 FEB 2008</span></h1></div><ul class=\"productMenu\"><li><a href=\"/doi/10.1002/9780470385951.fmatter/summary\" shape=\"rect\">Summary</a></li></ul></div>         </div>                   <iframe id=\"pdfDocument\" src=\"http://onlinelibrary.wiley.com/store/10.1002/9780470385951.fmatter/asset/fmatter.pdf?v=1&amp;t=i9pmwvio&amp;s=90f1cb510c74dde3fa70d21d4934bd27c81e03af\" width=\"100%\" height=\"675px\"></iframe>           <!-- Start Google Analytics -->         <script type=\"text/javascript\" xml:space=\"preserve\">\n",
        "        var gaJsHost = ((\"https:\" == document.location.protocol) ? \"https://ssl.\" : \"http://www.\");\n",
        "        document.write(unescape(\"%3Cscript src='\" + gaJsHost + \"google-analytics.com/ga.js' type='text/javascript'%3E%3C/script%3E\"));\n",
        "        </script>         <script type=\"text/javascript\" xml:space=\"preserve\">\n",
        "        try {\n",
        "        var pageTracker = _gat._getTracker(\"UA-11972776-3\");\n",
        "        pageTracker._trackPageview();\n",
        "        } catch(err) {}</script>         <!-- End Google Analytics -->           </div><script type=\"text/javascript\" xml:space=\"preserve\">\n",
        "    (function (wol) {\n",
        "        wol.config = wol.config || {};\n",
        "\n",
        "        wol.config.staticAssetUrl = 'http://onlinelibrarystatic.wiley.com/';\n",
        "\n",
        "        return wol;\n",
        "    }(window.wol = window.wol || {}));\n",
        "\n",
        "</script><script type=\"text/javascript\" src=\"http://onlinelibrarystatic.wiley.com/js/jquery/jquery-1.4.2.js\" xml:space=\"preserve\"></script><script type=\"text/javascript\" src=\"http://onlinelibrarystatic.wiley.com/js/jquery-ui/jquery.ui.core.js\" xml:space=\"preserve\"></script><script type=\"text/javascript\" src=\"http://onlinelibrarystatic.wiley.com/js/jquery-ui/jquery.ui.widget.js\" xml:space=\"preserve\"></script><script type=\"text/javascript\" src=\"http://onlinelibrarystatic.wiley.com/js/jquery-ui/jquery.ui.position.js\" xml:space=\"preserve\"></script><script type=\"text/javascript\" src=\"http://onlinelibrarystatic.wiley.com/js/jquery-ui/jquery.ui.autocomplete.js\" xml:space=\"preserve\"></script><script type=\"text/javascript\" src=\"http://onlinelibrarystatic.wiley.com/js/ol.widgets.js\" xml:space=\"preserve\"></script><script type=\"text/javascript\" src=\"http://onlinelibrarystatic.wiley.com/js/jquery/jquery.cookie.js\" xml:space=\"preserve\"></script><script type=\"text/javascript\" src=\"http://onlinelibrarystatic.wiley.com/js/wol.analytics.js\" xml:space=\"preserve\"></script><script type=\"text/javascript\" src=\"http://onlinelibrarystatic.wiley.com/js/jquery/jquery.bgiframe.js\" xml:space=\"preserve\"></script><script type=\"text/javascript\" src=\"http://onlinelibrarystatic.wiley.com/js/jquery.fancybox-1.3.1.js\" xml:space=\"preserve\"></script><script type=\"text/javascript\" src=\"http://onlinelibrarystatic.wiley.com/js/jquery.scrollTo-1.4.2-min.js\" xml:space=\"preserve\"></script><script type=\"text/javascript\" src=\"http://onlinelibrarystatic.wiley.com/js/jquery.easing-1.3.js\" xml:space=\"preserve\"></script><script type=\"text/javascript\" src=\"http://onlinelibrarystatic.wiley.com/js/jquery.mousewheel.js\" xml:space=\"preserve\"></script><script type=\"text/javascript\" src=\"http://onlinelibrarystatic.wiley.com/js/wol.fancybox.js\" xml:space=\"preserve\"></script><script type=\"text/javascript\" src=\"http://onlinelibrarystatic.wiley.com/js/json2.min.js\" xml:space=\"preserve\"></script><script type=\"text/javascript\" src=\"http://onlinelibrarystatic.wiley.com/js/jquery/jquery.flot.js\" xml:space=\"preserve\"></script><!--[if IE]><script type=\"text/javascript\" src=\"http://onlinelibrarystatic.wiley.com/js/excanvas.js\"></script><![endif]--><script type=\"text/javascript\" src=\"http://onlinelibrarystatic.wiley.com/js/wol.metrics.js\" xml:space=\"preserve\"></script><script type=\"text/javascript\" src=\"http://onlinelibrarystatic.wiley.com/js/wol.jquery.plugins.js\" xml:space=\"preserve\"></script><script type=\"text/javascript\" src=\"http://onlinelibrarystatic.wiley.com/js/wol.siteCatalystTL.js\" xml:space=\"preserve\"></script><script type=\"text/javascript\" src=\"http://onlinelibrarystatic.wiley.com/js/wol.treeListMenu.js\" xml:space=\"preserve\"></script><script type=\"text/javascript\" src=\"http://onlinelibrarystatic.wiley.com/js/wol.js\" xml:space=\"preserve\"></script></body></html>\n"
       ]
      }
     ],
     "prompt_number": 6
    },
    {
     "cell_type": "code",
     "collapsed": false,
     "input": [
      "url = 'http://onlinelibrary.wiley.com/store/10.1002/9780470385951.fmatter/asset/fmatter.pdf?v=1&amp;t=i9pmwvio&amp;s=90f1cb510c74dde3fa70d21d4934bd27c81e03af'\n",
      "getlinks(url)"
     ],
     "language": "python",
     "metadata": {},
     "outputs": [],
     "prompt_number": 11
    },
    {
     "cell_type": "code",
     "collapsed": false,
     "input": [
      "url = 'http://onlinelibrary.wiley.com/book/10.1002/9780470385951'\n",
      "urldict = getlinks(url)"
     ],
     "language": "python",
     "metadata": {},
     "outputs": [
      {
       "output_type": "stream",
       "stream": "stdout",
       "text": [
        "Found 17 chapters for your request.\n",
        "\n"
       ]
      }
     ],
     "prompt_number": 47
    },
    {
     "cell_type": "code",
     "collapsed": false,
     "input": [
      "pdfdict = getpdflinks(urldict)\n",
      "print pdfdict"
     ],
     "language": "python",
     "metadata": {},
     "outputs": [
      {
       "output_type": "stream",
       "stream": "stdout",
       "text": [
        "No Access! Check  1: http://onlinelibrary.wiley.com/doi/10.1002/9780470385951.ch1/pdf\n",
        "No Access! Check  2: http://onlinelibrary.wiley.com/doi/10.1002/9780470385951.ch2/pdf"
       ]
      },
      {
       "output_type": "stream",
       "stream": "stdout",
       "text": [
        "\n",
        "No Access! Check  3: http://onlinelibrary.wiley.com/doi/10.1002/9780470385951.ch3/pdf"
       ]
      },
      {
       "output_type": "stream",
       "stream": "stdout",
       "text": [
        "\n",
        "No Access! Check  4: http://onlinelibrary.wiley.com/doi/10.1002/9780470385951.ch4/pdf"
       ]
      },
      {
       "output_type": "stream",
       "stream": "stdout",
       "text": [
        "\n",
        "No Access! Check  5: http://onlinelibrary.wiley.com/doi/10.1002/9780470385951.ch5/pdf"
       ]
      },
      {
       "output_type": "stream",
       "stream": "stdout",
       "text": [
        "\n",
        "No Access! Check  6: http://onlinelibrary.wiley.com/doi/10.1002/9780470385951.ch6/pdf"
       ]
      },
      {
       "output_type": "stream",
       "stream": "stdout",
       "text": [
        "\n",
        "No Access! Check  7: http://onlinelibrary.wiley.com/doi/10.1002/9780470385951.ch7/pdf"
       ]
      },
      {
       "output_type": "stream",
       "stream": "stdout",
       "text": [
        "\n",
        "No Access! Check  8: http://onlinelibrary.wiley.com/doi/10.1002/9780470385951.ch8/pdf"
       ]
      },
      {
       "output_type": "stream",
       "stream": "stdout",
       "text": [
        "\n",
        "No Access! Check  9: http://onlinelibrary.wiley.com/doi/10.1002/9780470385951.ch9/pdf"
       ]
      },
      {
       "output_type": "stream",
       "stream": "stdout",
       "text": [
        "\n",
        "No Access! Check 10: http://onlinelibrary.wiley.com/doi/10.1002/9780470385951.ch10/pdf"
       ]
      },
      {
       "output_type": "stream",
       "stream": "stdout",
       "text": [
        "\n",
        "No Access! Check 11: http://onlinelibrary.wiley.com/doi/10.1002/9780470385951.ch11/pdf"
       ]
      },
      {
       "output_type": "stream",
       "stream": "stdout",
       "text": [
        "\n",
        "No Access! Check 12: http://onlinelibrary.wiley.com/doi/10.1002/9780470385951.ch12/pdf"
       ]
      },
      {
       "output_type": "stream",
       "stream": "stdout",
       "text": [
        "\n",
        "5 out of 17 requested PDF files are accessible.\n"
       ]
      },
      {
       "output_type": "stream",
       "stream": "stdout",
       "text": [
        "\n",
        "{0: 'http://onlinelibrary.wiley.com/store/10.1002/9780470385951.fmatter/asset/fmatter.pdf?v=1&t=i9ppciev&s=c3700a276e1356165131d978b1aa1b445be962fe', 16: 'http://onlinelibrary.wiley.com/store/10.1002/9780470385951.index/asset/index.pdf?v=1&t=i9ppd172&s=8785fa72e700ca0dc0e4be3a1eda98520864c648', 13: 'http://onlinelibrary.wiley.com/store/10.1002/9780470385951.app1/asset/app1.pdf?v=1&t=i9ppczkn&s=80bfaf14e97f659f78903986a20f445b780210c8', 14: 'http://onlinelibrary.wiley.com/store/10.1002/9780470385951.gloss/asset/gloss.pdf?v=1&t=i9ppd0h0&s=3aa73fb6bbb935082bacd84b53041c9806d917ba', 15: 'http://onlinelibrary.wiley.com/store/10.1002/9780470385951.biblio/asset/biblio.pdf?v=1&t=i9ppd1cn&s=834e275caac9846dea06d2ea6410a1bb9b6d9bd3'}\n"
       ]
      }
     ],
     "prompt_number": 67
    },
    {
     "cell_type": "code",
     "collapsed": false,
     "input": [
      "getpdfs(pdfdict)"
     ],
     "language": "python",
     "metadata": {},
     "outputs": [
      {
       "output_type": "stream",
       "stream": "stdout",
       "text": [
        "0\n",
        "<type 'int'>\n",
        "http://onlinelibrary.wiley.com/store/10.1002/9780470385951.fmatter/asset/fmatter.pdf?v=1&t=i9ppciev&s=c3700a276e1356165131d978b1aa1b445be962fe\n",
        "16"
       ]
      },
      {
       "output_type": "stream",
       "stream": "stdout",
       "text": [
        "\n",
        "<type 'int'>\n",
        "http://onlinelibrary.wiley.com/store/10.1002/9780470385951.index/asset/index.pdf?v=1&t=i9ppd172&s=8785fa72e700ca0dc0e4be3a1eda98520864c648\n",
        "13"
       ]
      },
      {
       "output_type": "stream",
       "stream": "stdout",
       "text": [
        "\n",
        "<type 'int'>\n",
        "http://onlinelibrary.wiley.com/store/10.1002/9780470385951.app1/asset/app1.pdf?v=1&t=i9ppczkn&s=80bfaf14e97f659f78903986a20f445b780210c8\n",
        "14"
       ]
      },
      {
       "output_type": "stream",
       "stream": "stdout",
       "text": [
        "\n",
        "<type 'int'>\n",
        "http://onlinelibrary.wiley.com/store/10.1002/9780470385951.gloss/asset/gloss.pdf?v=1&t=i9ppd0h0&s=3aa73fb6bbb935082bacd84b53041c9806d917ba\n",
        "15"
       ]
      },
      {
       "output_type": "stream",
       "stream": "stdout",
       "text": [
        "\n",
        "<type 'int'>\n",
        "http://onlinelibrary.wiley.com/store/10.1002/9780470385951.biblio/asset/biblio.pdf?v=1&t=i9ppd1cn&s=834e275caac9846dea06d2ea6410a1bb9b6d9bd3\n"
       ]
      }
     ],
     "prompt_number": 75
    },
    {
     "cell_type": "code",
     "collapsed": false,
     "input": [
      "url = 'http://onlinelibrary.wiley.com/book/10.1002/047086799X'\n",
      "path = 'WileyBooks/ModWeb'\n",
      "title = 'Modeling the Internet and the Web'\n",
      "\n",
      "urldict = getlinks(url)\n",
      "pdfdict = getpdflinks(urldict)\n",
      "getpdfs(pdfdict, path)\n",
      "concatpdfs(path, title)"
     ],
     "language": "python",
     "metadata": {},
     "outputs": [
      {
       "output_type": "stream",
       "stream": "stdout",
       "text": [
        "Found 13 chapters for your request.\n",
        "\n",
        "13 out of 13 requested PDF files are accessible.\n"
       ]
      },
      {
       "output_type": "stream",
       "stream": "stdout",
       "text": [
        "\n"
       ]
      }
     ],
     "prompt_number": 6
    },
    {
     "cell_type": "code",
     "collapsed": false,
     "input": [
      "getwileybook(url = 'http://onlinelibrary.wiley.com/book/10.1002/9780470569962', \n",
      "             path = 'WileyBooks/EvoIntSys', \n",
      "             title = 'Evolving Intelligent Systems')"
     ],
     "language": "python",
     "metadata": {},
     "outputs": [
      {
       "output_type": "stream",
       "stream": "stdout",
       "text": [
        "Found 22 chapters for your request.\n",
        "\n",
        "22 out of 22 requested PDF files are accessible.\n"
       ]
      },
      {
       "output_type": "stream",
       "stream": "stdout",
       "text": [
        "\n",
        "Saved combined PDF files as Evolving Intelligent Systems.pdf in WileyBooks/EvoIntSys"
       ]
      },
      {
       "output_type": "stream",
       "stream": "stdout",
       "text": [
        "\n"
       ]
      }
     ],
     "prompt_number": 18
    },
    {
     "cell_type": "code",
     "collapsed": false,
     "input": [
      "files = [x for x in os.listdir(path) if x.endswith('.pdf')]\n",
      "sorted(files)"
     ],
     "language": "python",
     "metadata": {},
     "outputs": [
      {
       "metadata": {},
       "output_type": "pyout",
       "prompt_number": 20,
       "text": [
        "[' 0.pdf',\n",
        " ' 1.pdf',\n",
        " ' 2.pdf',\n",
        " ' 3.pdf',\n",
        " ' 4.pdf',\n",
        " ' 5.pdf',\n",
        " ' 6.pdf',\n",
        " ' 7.pdf',\n",
        " ' 8.pdf',\n",
        " ' 9.pdf',\n",
        " '10.pdf',\n",
        " '11.pdf',\n",
        " '12.pdf',\n",
        " 'Modeling the Internet and the Web.pdf']"
       ]
      }
     ],
     "prompt_number": 20
    },
    {
     "cell_type": "code",
     "collapsed": false,
     "input": [
      "getwileybook(url = 'http://onlinelibrary.wiley.com/book/10.1002/0471227587', \n",
      "             path = 'WileyBooks/DNA-MAD', \n",
      "             title = 'Analysis of DNA Microarray Data')"
     ],
     "language": "python",
     "metadata": {},
     "outputs": [
      {
       "output_type": "stream",
       "stream": "stdout",
       "text": [
        "Found 16 chapters for your request.\n",
        "\n",
        "16 out of 16 requested PDF files are accessible.\n"
       ]
      },
      {
       "output_type": "stream",
       "stream": "stdout",
       "text": [
        "\n",
        "Saved combined PDF files as 'Analysis of DNA Microarray Dat.pdf' in 'WileyBooks/DNA-MAD'"
       ]
      },
      {
       "output_type": "stream",
       "stream": "stdout",
       "text": [
        "\n"
       ]
      }
     ],
     "prompt_number": 30
    },
    {
     "cell_type": "code",
     "collapsed": false,
     "input": [
      "getwileybook(url = 'http://onlinelibrary.wiley.com/book/10.1002/0471671746', \n",
      "             path = 'WileyBooks/GenAlg', \n",
      "             title = 'Practical Genetic Algorithms')"
     ],
     "language": "python",
     "metadata": {},
     "outputs": [
      {
       "output_type": "stream",
       "stream": "stdout",
       "text": [
        "Found 13 chapters for your request.\n",
        "\n",
        "13 out of 13 requested PDF files are accessible.\n"
       ]
      },
      {
       "output_type": "stream",
       "stream": "stdout",
       "text": [
        "\n",
        "Saved combined PDF files as 'Practical Genetic Algorithms,.pdf' in 'WileyBooks/GenAlg'"
       ]
      },
      {
       "output_type": "stream",
       "stream": "stdout",
       "text": [
        "\n"
       ]
      }
     ],
     "prompt_number": 34
    }
   ],
   "metadata": {}
  }
 ]
}